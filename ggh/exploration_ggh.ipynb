{
 "cells": [
  {
   "cell_type": "code",
   "execution_count": 13,
   "metadata": {},
   "outputs": [],
   "source": [
    "from matplotlib import pyplot as plt\n",
    "from GGH import GGH\n",
    "import numpy as np\n",
    "import pandas as pd\n",
    "from tqdm import tqdm\n",
    "\n",
    "import scienceplots\n",
    "\n",
    "plt.style.use('science')"
   ]
  },
  {
   "cell_type": "code",
   "execution_count": 14,
   "metadata": {},
   "outputs": [],
   "source": [
    "def GGH_sample(m, n, sigma, print_result = False):\n",
    "\n",
    "    m_recovered = np.array([0, 0, 0])\n",
    "    attempts = 0\n",
    "    \n",
    "    while (m == m_recovered).all() == False:\n",
    "\n",
    "        attempts += 1\n",
    "\n",
    "        if print_result:\n",
    "            print('------------------ \\nGGH Example')\n",
    "\n",
    "        ggh = GGH(n, sigma)\n",
    "\n",
    "        # Encryption\n",
    "        c = ggh.encrypt(m)\n",
    "\n",
    "        if print_result:\n",
    "            print(\"Ciphertext:\", c)\n",
    "\n",
    "        # Decryption\n",
    "        m_recovered = ggh.decrypt(c)\n",
    "\n",
    "        if print_result:\n",
    "            print(\"Recovered message:\", m_recovered)\n",
    "\n",
    "        if print_result:\n",
    "            print('------------------ \\n')\n",
    "\n",
    "    return attempts,m_recovered\n"
   ]
  },
  {
   "cell_type": "code",
   "execution_count": 15,
   "metadata": {},
   "outputs": [
    {
     "data": {
      "text/plain": [
       "(21, array([32,  0, 13]))"
      ]
     },
     "execution_count": 15,
     "metadata": {},
     "output_type": "execute_result"
    }
   ],
   "source": [
    "m = np.array([32, 0, 13])\n",
    "n = 3  # Dimension of the lattice\n",
    "sigma = 2  # Error parameter\n",
    "\n",
    "n_attemps = GGH_sample(m, n, sigma, print_result = False)\n",
    "n_attemps"
   ]
  },
  {
   "cell_type": "code",
   "execution_count": 16,
   "metadata": {},
   "outputs": [
    {
     "name": "stderr",
     "output_type": "stream",
     "text": [
      "  0%|          | 0/12 [00:00<?, ?it/s]"
     ]
    },
    {
     "name": "stderr",
     "output_type": "stream",
     "text": [
      "  0%|          | 0/12 [00:11<?, ?it/s]\n"
     ]
    },
    {
     "ename": "KeyboardInterrupt",
     "evalue": "",
     "output_type": "error",
     "traceback": [
      "\u001b[1;31m---------------------------------------------------------------------------\u001b[0m",
      "\u001b[1;31mKeyboardInterrupt\u001b[0m                         Traceback (most recent call last)",
      "Cell \u001b[1;32mIn[16], line 5\u001b[0m\n\u001b[0;32m      3\u001b[0m \u001b[38;5;28;01mfor\u001b[39;00m sigma \u001b[38;5;129;01min\u001b[39;00m tqdm(\u001b[38;5;28mrange\u001b[39m(\u001b[38;5;241m1\u001b[39m, \u001b[38;5;241m60\u001b[39m, \u001b[38;5;241m5\u001b[39m)):\n\u001b[0;32m      4\u001b[0m     \u001b[38;5;28;01mfor\u001b[39;00m _ \u001b[38;5;129;01min\u001b[39;00m \u001b[38;5;28mrange\u001b[39m(\u001b[38;5;241m20\u001b[39m):\n\u001b[1;32m----> 5\u001b[0m         n_at \u001b[38;5;241m=\u001b[39m \u001b[43mGGH_sample\u001b[49m\u001b[43m(\u001b[49m\u001b[43mm\u001b[49m\u001b[43m,\u001b[49m\u001b[43m \u001b[49m\u001b[43mn\u001b[49m\u001b[43m,\u001b[49m\u001b[43m \u001b[49m\u001b[43msigma\u001b[49m\u001b[43m,\u001b[49m\u001b[43m \u001b[49m\u001b[43mprint_result\u001b[49m\u001b[43m \u001b[49m\u001b[38;5;241;43m=\u001b[39;49m\u001b[43m \u001b[49m\u001b[38;5;28;43;01mFalse\u001b[39;49;00m\u001b[43m)\u001b[49m\n\u001b[0;32m      6\u001b[0m         n_attemps \u001b[38;5;241m=\u001b[39m pd\u001b[38;5;241m.\u001b[39mconcat([n_attemps, pd\u001b[38;5;241m.\u001b[39mDataFrame({\u001b[38;5;124m'\u001b[39m\u001b[38;5;124msigma\u001b[39m\u001b[38;5;124m'\u001b[39m: [sigma], \u001b[38;5;124m'\u001b[39m\u001b[38;5;124mn\u001b[39m\u001b[38;5;124m'\u001b[39m: [n_at]})], axis \u001b[38;5;241m=\u001b[39m \u001b[38;5;241m0\u001b[39m)\n\u001b[0;32m      8\u001b[0m n_attemps\n",
      "Cell \u001b[1;32mIn[14], line 13\u001b[0m, in \u001b[0;36mGGH_sample\u001b[1;34m(m, n, sigma, print_result)\u001b[0m\n\u001b[0;32m     10\u001b[0m \u001b[38;5;28;01mif\u001b[39;00m print_result:\n\u001b[0;32m     11\u001b[0m     \u001b[38;5;28mprint\u001b[39m(\u001b[38;5;124m'\u001b[39m\u001b[38;5;124m------------------ \u001b[39m\u001b[38;5;130;01m\\n\u001b[39;00m\u001b[38;5;124mGGH Example\u001b[39m\u001b[38;5;124m'\u001b[39m)\n\u001b[1;32m---> 13\u001b[0m ggh \u001b[38;5;241m=\u001b[39m \u001b[43mGGH\u001b[49m\u001b[43m(\u001b[49m\u001b[43mn\u001b[49m\u001b[43m,\u001b[49m\u001b[43m \u001b[49m\u001b[43msigma\u001b[49m\u001b[43m)\u001b[49m\n\u001b[0;32m     15\u001b[0m \u001b[38;5;66;03m# Encryption\u001b[39;00m\n\u001b[0;32m     16\u001b[0m c \u001b[38;5;241m=\u001b[39m ggh\u001b[38;5;241m.\u001b[39mencrypt(m)\n",
      "File \u001b[1;32mc:\\Users\\34620\\Desktop\\pyLat\\pyLat\\ggh\\GGH.py:19\u001b[0m, in \u001b[0;36mGGH.__init__\u001b[1;34m(self, n, sigma, scale)\u001b[0m\n\u001b[0;32m     17\u001b[0m \u001b[38;5;28mself\u001b[39m\u001b[38;5;241m.\u001b[39mc \u001b[38;5;241m=\u001b[39m \u001b[38;5;28;01mNone\u001b[39;00m\n\u001b[0;32m     18\u001b[0m \u001b[38;5;28mself\u001b[39m\u001b[38;5;241m.\u001b[39mv \u001b[38;5;241m=\u001b[39m \u001b[38;5;28;01mNone\u001b[39;00m\n\u001b[1;32m---> 19\u001b[0m \u001b[38;5;28mself\u001b[39m\u001b[38;5;241m.\u001b[39mR \u001b[38;5;241m=\u001b[39m \u001b[38;5;28;43mself\u001b[39;49m\u001b[38;5;241;43m.\u001b[39;49m\u001b[43mgenerate_good_basis\u001b[49m\u001b[43m(\u001b[49m\u001b[43m)\u001b[49m\n\u001b[0;32m     20\u001b[0m \u001b[38;5;28mself\u001b[39m\u001b[38;5;241m.\u001b[39mB \u001b[38;5;241m=\u001b[39m \u001b[38;5;28mself\u001b[39m\u001b[38;5;241m.\u001b[39mgenerate_bad_basis(\u001b[38;5;28mself\u001b[39m\u001b[38;5;241m.\u001b[39mR)\n",
      "File \u001b[1;32mc:\\Users\\34620\\Desktop\\pyLat\\pyLat\\ggh\\GGH.py:30\u001b[0m, in \u001b[0;36mGGH.generate_good_basis\u001b[1;34m(self)\u001b[0m\n\u001b[0;32m     27\u001b[0m     R_ \u001b[38;5;241m=\u001b[39m np\u001b[38;5;241m.\u001b[39mrandom\u001b[38;5;241m.\u001b[39mrandint(\u001b[38;5;241m-\u001b[39m\u001b[38;5;241m10\u001b[39m, \u001b[38;5;241m10\u001b[39m, (\u001b[38;5;28mself\u001b[39m\u001b[38;5;241m.\u001b[39mn, \u001b[38;5;28mself\u001b[39m\u001b[38;5;241m.\u001b[39mn))\u001b[38;5;241m.\u001b[39mastype(\u001b[38;5;28mfloat\u001b[39m)\n\u001b[0;32m     29\u001b[0m basis_transformer \u001b[38;5;241m=\u001b[39m BasisTransformer()\n\u001b[1;32m---> 30\u001b[0m R \u001b[38;5;241m=\u001b[39m \u001b[43mbasis_transformer\u001b[49m\u001b[38;5;241;43m.\u001b[39;49m\u001b[43mreduce_basis\u001b[49m\u001b[43m(\u001b[49m\u001b[43mR_\u001b[49m\u001b[43m,\u001b[49m\u001b[43m \u001b[49m\u001b[43mmethod\u001b[49m\u001b[38;5;241;43m=\u001b[39;49m\u001b[38;5;124;43m'\u001b[39;49m\u001b[38;5;124;43mLLL\u001b[39;49m\u001b[38;5;124;43m'\u001b[39;49m\u001b[43m)\u001b[49m\n\u001b[0;32m     31\u001b[0m \u001b[38;5;28;01mreturn\u001b[39;00m R\n",
      "File \u001b[1;32mc:\\Users\\34620\\Desktop\\pyLat\\pyLat\\basis_reduction\\basisTransformer.py:84\u001b[0m, in \u001b[0;36mBasisTransformer.reduce_basis\u001b[1;34m(self, basis, method)\u001b[0m\n\u001b[0;32m     82\u001b[0m \u001b[38;5;250m\u001b[39m\u001b[38;5;124;03m\"\"\"Reduce the basis using the specified method (default: LLL).\"\"\"\u001b[39;00m\n\u001b[0;32m     83\u001b[0m \u001b[38;5;28;01mif\u001b[39;00m method \u001b[38;5;241m==\u001b[39m \u001b[38;5;124m'\u001b[39m\u001b[38;5;124mLLL\u001b[39m\u001b[38;5;124m'\u001b[39m:\n\u001b[1;32m---> 84\u001b[0m     \u001b[38;5;28;01mreturn\u001b[39;00m \u001b[38;5;28;43mself\u001b[39;49m\u001b[38;5;241;43m.\u001b[39;49m\u001b[43mlll_reduce\u001b[49m\u001b[43m(\u001b[49m\u001b[43mbasis\u001b[49m\u001b[43m)\u001b[49m\n\u001b[0;32m     85\u001b[0m \u001b[38;5;28;01melse\u001b[39;00m:\n\u001b[0;32m     86\u001b[0m     \u001b[38;5;28;01mraise\u001b[39;00m \u001b[38;5;167;01mValueError\u001b[39;00m(\u001b[38;5;124mf\u001b[39m\u001b[38;5;124m\"\u001b[39m\u001b[38;5;124mUnknown reduction method: \u001b[39m\u001b[38;5;132;01m{\u001b[39;00mmethod\u001b[38;5;132;01m}\u001b[39;00m\u001b[38;5;124m\"\u001b[39m)\n",
      "File \u001b[1;32mc:\\Users\\34620\\Desktop\\pyLat\\pyLat\\basis_reduction\\basisTransformer.py:67\u001b[0m, in \u001b[0;36mBasisTransformer.lll_reduce\u001b[1;34m(self, basis, delta)\u001b[0m\n\u001b[0;32m     65\u001b[0m \u001b[38;5;28;01mwhile\u001b[39;00m k \u001b[38;5;241m<\u001b[39m n:\n\u001b[0;32m     66\u001b[0m     \u001b[38;5;28;01mfor\u001b[39;00m j \u001b[38;5;129;01min\u001b[39;00m \u001b[38;5;28mrange\u001b[39m(k \u001b[38;5;241m-\u001b[39m \u001b[38;5;241m1\u001b[39m, \u001b[38;5;241m-\u001b[39m\u001b[38;5;241m1\u001b[39m, \u001b[38;5;241m-\u001b[39m\u001b[38;5;241m1\u001b[39m):\n\u001b[1;32m---> 67\u001b[0m         mu_k_j \u001b[38;5;241m=\u001b[39m np\u001b[38;5;241m.\u001b[39mdot(basis[:, k], ortho_basis[:, j]) \u001b[38;5;241m/\u001b[39m \u001b[43mnp\u001b[49m\u001b[38;5;241;43m.\u001b[39;49m\u001b[43mdot\u001b[49m\u001b[43m(\u001b[49m\u001b[43mortho_basis\u001b[49m\u001b[43m[\u001b[49m\u001b[43m:\u001b[49m\u001b[43m,\u001b[49m\u001b[43m \u001b[49m\u001b[43mj\u001b[49m\u001b[43m]\u001b[49m\u001b[43m,\u001b[49m\u001b[43m \u001b[49m\u001b[43mortho_basis\u001b[49m\u001b[43m[\u001b[49m\u001b[43m:\u001b[49m\u001b[43m,\u001b[49m\u001b[43m \u001b[49m\u001b[43mj\u001b[49m\u001b[43m]\u001b[49m\u001b[43m)\u001b[49m\n\u001b[0;32m     68\u001b[0m         basis[:, k] \u001b[38;5;241m=\u001b[39m basis[:, k] \u001b[38;5;241m-\u001b[39m \u001b[38;5;28mround\u001b[39m(mu_k_j) \u001b[38;5;241m*\u001b[39m basis[:, j]\n\u001b[0;32m     69\u001b[0m         ortho_basis \u001b[38;5;241m=\u001b[39m \u001b[38;5;28mself\u001b[39m\u001b[38;5;241m.\u001b[39morthogonalize_basis(basis)\n",
      "\u001b[1;31mKeyboardInterrupt\u001b[0m: "
     ]
    }
   ],
   "source": [
    "n_attemps = pd.DataFrame(columns=['sigma', 'n'])\n",
    "\n",
    "for sigma in tqdm(range(1, 60, 5)):\n",
    "    for _ in range(20):\n",
    "        n_at = GGH_sample(m, n, sigma, print_result = False)\n",
    "        n_attemps = pd.concat([n_attemps, pd.DataFrame({'sigma': [sigma], 'n': [n_at]})], axis = 0)\n",
    "\n",
    "n_attemps"
   ]
  },
  {
   "cell_type": "code",
   "execution_count": null,
   "metadata": {},
   "outputs": [
    {
     "data": {
      "text/plain": [
       "<Axes: xlabel='sigma'>"
      ]
     },
     "execution_count": 60,
     "metadata": {},
     "output_type": "execute_result"
    },
    {
     "data": {
      "image/png": "[encoded data removed]",
      "text/plain": [
       "<Figure size 350x262.5 with 1 Axes>"
      ]
     },
     "metadata": {},
     "output_type": "display_data"
    }
   ],
   "source": [
    "n_attemps.groupby('sigma').mean().plot()"
   ]
  },
  {
   "cell_type": "code",
   "execution_count": 30,
   "metadata": {},
   "outputs": [],
   "source": [
    "\n",
    "m = np.array([32, 0, 13])\n",
    "n = 3  # Dimension of the lattice\n",
    "sigma = 2  # Error parameter\n",
    "\n",
    "\n",
    "m_recovered = np.array([0, 0, 0])\n",
    "attempts = 0\n",
    "\n",
    "while (m == m_recovered).all() == False:\n",
    "\n",
    "    attempts += 1\n",
    "\n",
    "    ggh = GGH(n, sigma)\n",
    "\n",
    "    # Encryption\n",
    "    c = ggh.encrypt(m)\n",
    "\n",
    "    # Decryption\n",
    "    m_recovered = ggh.decrypt(c)\n",
    "\n",
    "        "
   ]
  },
  {
   "cell_type": "code",
   "execution_count": 31,
   "metadata": {},
   "outputs": [],
   "source": [
    "def describe_ggh_instance(ggh_instance):\n",
    "    \"\"\"\n",
    "    Describes all the elements of a given GGH instance.\n",
    "    \n",
    "    Args:\n",
    "    ggh_instance (GGH): An instance of the GGH class.\n",
    "    \n",
    "    Returns:\n",
    "    dict: A dictionary containing all the elements of the GGH instance.\n",
    "    \"\"\"\n",
    "    description = {\n",
    "        \"Good basis (R)\": ggh_instance.R,\n",
    "        \"Bad basis (B)\": ggh_instance.B,\n",
    "        \"Dimension (n)\": ggh_instance.n,\n",
    "        \"Unimodular matrix (U)\": ggh_instance.U,\n",
    "        \"Error parameter (sigma)\": ggh_instance.sigma,\n",
    "        \"Error vector\": ggh_instance.e,\n",
    "        \"Encrypted message\": ggh_instance.c,\n",
    "        \"Closest Vector\": ggh_instance.v,\n",
    "    }\n",
    "    \n",
    "    return description\n"
   ]
  },
  {
   "cell_type": "code",
   "execution_count": 32,
   "metadata": {},
   "outputs": [
    {
     "name": "stdout",
     "output_type": "stream",
     "text": [
      "Good basis (R):\n",
      "[[-2  3 -7]\n",
      " [ 4 -1 -6]\n",
      " [ 1  6  2]] \n",
      "\n",
      "Bad basis (B):\n",
      "[[-1465.  -153.    26.]\n",
      " [  975.   101.   -17.]\n",
      " [-3853.  -402.    68.]] \n",
      "\n",
      "Dimension (n):\n",
      "3 \n",
      "\n",
      "Unimodular matrix (U):\n",
      "[[   1.    0.    0.]\n",
      " [-623.  -65.   11.]\n",
      " [ -58.   -6.    1.]] \n",
      "\n",
      "Error parameter (sigma):\n",
      "2 \n",
      "\n",
      "Error vector:\n",
      "[-1 -1  1] \n",
      "\n",
      "Encrypted message:\n",
      "[-96970. -10123.   1717.] \n",
      "\n",
      "Closest Vector:\n",
      "[-96969 -10122   1716] \n",
      "\n"
     ]
    }
   ],
   "source": [
    "\n",
    "ggh_description = describe_ggh_instance(ggh)\n",
    "for key, value in ggh_description.items():\n",
    "    print(f\"{key}:\")\n",
    "    print(value, \"\\n\")\n"
   ]
  },
  {
   "cell_type": "code",
   "execution_count": 33,
   "metadata": {},
   "outputs": [
    {
     "name": "stdout",
     "output_type": "stream",
     "text": [
      "B^(-1) * v =  [32  0 13]\n"
     ]
    }
   ],
   "source": [
    "from numpy.linalg import inv\n",
    "\n",
    "v = ggh.v\n",
    "B = ggh.B\n",
    "\n",
    "np.dot(v, inv(B)).astype(int)\n",
    "print('B^(-1) * v = ', np.dot(v, inv(B)).astype(int))"
   ]
  }
 ],
 "metadata": {
  "kernelspec": {
   "display_name": "pyLat",
   "language": "python",
   "name": "python3"
  },
  "language_info": {
   "codemirror_mode": {
    "name": "ipython",
    "version": 3
   },
   "file_extension": ".py",
   "mimetype": "text/x-python",
   "name": "python",
   "nbconvert_exporter": "python",
   "pygments_lexer": "ipython3",
   "version": "3.9.1"
  }
 },
 "nbformat": 4,
 "nbformat_minor": 2
}
